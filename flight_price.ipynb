{
 "cells": [
  {
   "cell_type": "code",
   "execution_count": 1,
   "id": "04ee39e0",
   "metadata": {},
   "outputs": [],
   "source": [
    "import pandas as pd\n",
    "import numpy as np\n",
    "import seaborn as sns\n",
    "import matplotlib.pyplot as plt\n",
    "from sklearn.ensemble import RandomForestRegressor\n",
    "from sklearn.model_selection import train_test_split\n",
    "from sklearn.model_selection import cross_val_score\n",
    "from sklearn.model_selection import RandomizedSearchCV\n",
    "import math\n",
    "from scipy import stats\n",
    "from numpy import absolute\n",
    "from numpy import mean\n",
    "from sklearn import metrics\n",
    "import pickle"
   ]
  },
  {
   "cell_type": "code",
   "execution_count": 2,
   "id": "a26a6ab0",
   "metadata": {},
   "outputs": [],
   "source": [
    "df = pd.read_csv('web_flight_final.csv')"
   ]
  },
  {
   "cell_type": "code",
   "execution_count": 3,
   "id": "fc64ed26",
   "metadata": {},
   "outputs": [
    {
     "data": {
      "text/html": [
       "<div>\n",
       "<style scoped>\n",
       "    .dataframe tbody tr th:only-of-type {\n",
       "        vertical-align: middle;\n",
       "    }\n",
       "\n",
       "    .dataframe tbody tr th {\n",
       "        vertical-align: top;\n",
       "    }\n",
       "\n",
       "    .dataframe thead th {\n",
       "        text-align: right;\n",
       "    }\n",
       "</style>\n",
       "<table border=\"1\" class=\"dataframe\">\n",
       "  <thead>\n",
       "    <tr style=\"text-align: right;\">\n",
       "      <th></th>\n",
       "      <th>Unnamed: 0</th>\n",
       "      <th>airline</th>\n",
       "      <th>duration</th>\n",
       "      <th>total_stops</th>\n",
       "      <th>price</th>\n",
       "      <th>date_of_journey</th>\n",
       "      <th>depature_time</th>\n",
       "      <th>sources</th>\n",
       "      <th>arrival_time</th>\n",
       "      <th>desinations</th>\n",
       "    </tr>\n",
       "  </thead>\n",
       "  <tbody>\n",
       "    <tr>\n",
       "      <th>0</th>\n",
       "      <td>0</td>\n",
       "      <td>Air Asia</td>\n",
       "      <td>6h 35m</td>\n",
       "      <td>1 Stop</td>\n",
       "      <td>5,953</td>\n",
       "      <td>23-10-2021</td>\n",
       "      <td>09:25</td>\n",
       "      <td>New Delhi</td>\n",
       "      <td>16:00</td>\n",
       "      <td>Mumbai</td>\n",
       "    </tr>\n",
       "    <tr>\n",
       "      <th>1</th>\n",
       "      <td>1</td>\n",
       "      <td>Air Asia</td>\n",
       "      <td>7h 35m</td>\n",
       "      <td>1 Stop</td>\n",
       "      <td>5,953</td>\n",
       "      <td>23-10-2021</td>\n",
       "      <td>12:40</td>\n",
       "      <td>New Delhi</td>\n",
       "      <td>20:15</td>\n",
       "      <td>Mumbai</td>\n",
       "    </tr>\n",
       "    <tr>\n",
       "      <th>2</th>\n",
       "      <td>2</td>\n",
       "      <td>Air Asia</td>\n",
       "      <td>8h 20m</td>\n",
       "      <td>1 Stop</td>\n",
       "      <td>5,953</td>\n",
       "      <td>23-10-2021</td>\n",
       "      <td>11:55</td>\n",
       "      <td>New Delhi</td>\n",
       "      <td>20:15</td>\n",
       "      <td>Mumbai</td>\n",
       "    </tr>\n",
       "    <tr>\n",
       "      <th>3</th>\n",
       "      <td>3</td>\n",
       "      <td>Air Asia</td>\n",
       "      <td>11h 40m</td>\n",
       "      <td>1 Stop</td>\n",
       "      <td>5,953</td>\n",
       "      <td>23-10-2021</td>\n",
       "      <td>18:40</td>\n",
       "      <td>New Delhi</td>\n",
       "      <td>06:20</td>\n",
       "      <td>+ 1 day\\nMumbai</td>\n",
       "    </tr>\n",
       "    <tr>\n",
       "      <th>4</th>\n",
       "      <td>4</td>\n",
       "      <td>Air Asia</td>\n",
       "      <td>14h 10m</td>\n",
       "      <td>1 Stop</td>\n",
       "      <td>5,953</td>\n",
       "      <td>23-10-2021</td>\n",
       "      <td>08:00</td>\n",
       "      <td>New Delhi</td>\n",
       "      <td>22:10</td>\n",
       "      <td>Mumbai</td>\n",
       "    </tr>\n",
       "    <tr>\n",
       "      <th>...</th>\n",
       "      <td>...</td>\n",
       "      <td>...</td>\n",
       "      <td>...</td>\n",
       "      <td>...</td>\n",
       "      <td>...</td>\n",
       "      <td>...</td>\n",
       "      <td>...</td>\n",
       "      <td>...</td>\n",
       "      <td>...</td>\n",
       "      <td>...</td>\n",
       "    </tr>\n",
       "    <tr>\n",
       "      <th>1639</th>\n",
       "      <td>1639</td>\n",
       "      <td>Air Asia</td>\n",
       "      <td>14h 15m</td>\n",
       "      <td>1 Stop</td>\n",
       "      <td>16,313</td>\n",
       "      <td>27-12-2021</td>\n",
       "      <td>12:10</td>\n",
       "      <td>New Delhi</td>\n",
       "      <td>02:25</td>\n",
       "      <td>+ 1 day\\nMumbai</td>\n",
       "    </tr>\n",
       "    <tr>\n",
       "      <th>1640</th>\n",
       "      <td>1640</td>\n",
       "      <td>Air India</td>\n",
       "      <td>13h 40m</td>\n",
       "      <td>1 Stop</td>\n",
       "      <td>17,127</td>\n",
       "      <td>27-12-2021</td>\n",
       "      <td>10:55</td>\n",
       "      <td>New Delhi</td>\n",
       "      <td>00:35</td>\n",
       "      <td>+ 1 day\\nMumbai</td>\n",
       "    </tr>\n",
       "    <tr>\n",
       "      <th>1641</th>\n",
       "      <td>1641</td>\n",
       "      <td>Air India</td>\n",
       "      <td>21h 50m</td>\n",
       "      <td>1 Stop</td>\n",
       "      <td>17,127</td>\n",
       "      <td>27-12-2021</td>\n",
       "      <td>10:55</td>\n",
       "      <td>New Delhi</td>\n",
       "      <td>08:45</td>\n",
       "      <td>+ 1 day\\nMumbai</td>\n",
       "    </tr>\n",
       "    <tr>\n",
       "      <th>1642</th>\n",
       "      <td>1642</td>\n",
       "      <td>Air India</td>\n",
       "      <td>5h 40m</td>\n",
       "      <td>1 Stop</td>\n",
       "      <td>18,282</td>\n",
       "      <td>27-12-2021</td>\n",
       "      <td>10:55</td>\n",
       "      <td>New Delhi</td>\n",
       "      <td>16:35</td>\n",
       "      <td>Mumbai</td>\n",
       "    </tr>\n",
       "    <tr>\n",
       "      <th>1643</th>\n",
       "      <td>1643</td>\n",
       "      <td>Air India</td>\n",
       "      <td>11h 30m</td>\n",
       "      <td>1 Stop</td>\n",
       "      <td>19,343</td>\n",
       "      <td>27-12-2021</td>\n",
       "      <td>10:55</td>\n",
       "      <td>New Delhi</td>\n",
       "      <td>22:25</td>\n",
       "      <td>Mumbai</td>\n",
       "    </tr>\n",
       "  </tbody>\n",
       "</table>\n",
       "<p>1644 rows × 10 columns</p>\n",
       "</div>"
      ],
      "text/plain": [
       "      Unnamed: 0    airline duration total_stops   price date_of_journey  \\\n",
       "0              0   Air Asia   6h 35m      1 Stop   5,953      23-10-2021   \n",
       "1              1   Air Asia   7h 35m      1 Stop   5,953      23-10-2021   \n",
       "2              2   Air Asia   8h 20m      1 Stop   5,953      23-10-2021   \n",
       "3              3   Air Asia  11h 40m      1 Stop   5,953      23-10-2021   \n",
       "4              4   Air Asia  14h 10m      1 Stop   5,953      23-10-2021   \n",
       "...          ...        ...      ...         ...     ...             ...   \n",
       "1639        1639   Air Asia  14h 15m      1 Stop  16,313      27-12-2021   \n",
       "1640        1640  Air India  13h 40m      1 Stop  17,127      27-12-2021   \n",
       "1641        1641  Air India  21h 50m      1 Stop  17,127      27-12-2021   \n",
       "1642        1642  Air India   5h 40m      1 Stop  18,282      27-12-2021   \n",
       "1643        1643  Air India  11h 30m      1 Stop  19,343      27-12-2021   \n",
       "\n",
       "     depature_time    sources arrival_time      desinations  \n",
       "0            09:25  New Delhi        16:00           Mumbai  \n",
       "1            12:40  New Delhi        20:15           Mumbai  \n",
       "2            11:55  New Delhi        20:15           Mumbai  \n",
       "3            18:40  New Delhi        06:20  + 1 day\\nMumbai  \n",
       "4            08:00  New Delhi        22:10           Mumbai  \n",
       "...            ...        ...          ...              ...  \n",
       "1639         12:10  New Delhi        02:25  + 1 day\\nMumbai  \n",
       "1640         10:55  New Delhi        00:35  + 1 day\\nMumbai  \n",
       "1641         10:55  New Delhi        08:45  + 1 day\\nMumbai  \n",
       "1642         10:55  New Delhi        16:35           Mumbai  \n",
       "1643         10:55  New Delhi        22:25           Mumbai  \n",
       "\n",
       "[1644 rows x 10 columns]"
      ]
     },
     "execution_count": 3,
     "metadata": {},
     "output_type": "execute_result"
    }
   ],
   "source": [
    "df"
   ]
  },
  {
   "cell_type": "code",
   "execution_count": 4,
   "id": "b07700c8",
   "metadata": {},
   "outputs": [],
   "source": [
    "df[\"price\"] = [float(str(i).replace(\",\", \"\")) for i in df[\"price\"]]"
   ]
  },
  {
   "cell_type": "code",
   "execution_count": 5,
   "id": "a311ffa4",
   "metadata": {},
   "outputs": [],
   "source": [
    "df.drop('Unnamed: 0',axis=1,inplace=True)"
   ]
  },
  {
   "cell_type": "code",
   "execution_count": 6,
   "id": "05b8a28a",
   "metadata": {},
   "outputs": [
    {
     "data": {
      "text/plain": [
       "2h 10m     195\n",
       "2h 15m     163\n",
       "2h 20m     100\n",
       "2h 05m      49\n",
       "2h 25m      26\n",
       "          ... \n",
       "23h 20m      1\n",
       "28h 00m      1\n",
       "19h 55m      1\n",
       "25h 05m      1\n",
       "14h 30m      1\n",
       "Name: duration, Length: 185, dtype: int64"
      ]
     },
     "execution_count": 6,
     "metadata": {},
     "output_type": "execute_result"
    }
   ],
   "source": [
    "df[\"duration\"].value_counts()"
   ]
  },
  {
   "cell_type": "code",
   "execution_count": 7,
   "id": "0a4fee52",
   "metadata": {},
   "outputs": [
    {
     "name": "stdout",
     "output_type": "stream",
     "text": [
      "<class 'pandas.core.frame.DataFrame'>\n",
      "RangeIndex: 1644 entries, 0 to 1643\n",
      "Data columns (total 9 columns):\n",
      " #   Column           Non-Null Count  Dtype  \n",
      "---  ------           --------------  -----  \n",
      " 0   airline          1644 non-null   object \n",
      " 1   duration         1644 non-null   object \n",
      " 2   total_stops      1644 non-null   object \n",
      " 3   price            1644 non-null   float64\n",
      " 4   date_of_journey  1644 non-null   object \n",
      " 5   depature_time    1644 non-null   object \n",
      " 6   sources          1644 non-null   object \n",
      " 7   arrival_time     1644 non-null   object \n",
      " 8   desinations      1644 non-null   object \n",
      "dtypes: float64(1), object(8)\n",
      "memory usage: 115.7+ KB\n"
     ]
    }
   ],
   "source": [
    "df.info()"
   ]
  },
  {
   "cell_type": "code",
   "execution_count": 8,
   "id": "53d3294a",
   "metadata": {},
   "outputs": [
    {
     "data": {
      "text/plain": [
       "airline            0\n",
       "duration           0\n",
       "total_stops        0\n",
       "price              0\n",
       "date_of_journey    0\n",
       "depature_time      0\n",
       "sources            0\n",
       "arrival_time       0\n",
       "desinations        0\n",
       "dtype: int64"
      ]
     },
     "execution_count": 8,
     "metadata": {},
     "output_type": "execute_result"
    }
   ],
   "source": [
    "df.isnull().sum()"
   ]
  },
  {
   "cell_type": "code",
   "execution_count": 9,
   "id": "71aefcc3",
   "metadata": {},
   "outputs": [
    {
     "data": {
      "image/png": "[encoded data removed]",
      "text/plain": [
       "<Figure size 432x288 with 1 Axes>"
      ]
     },
     "metadata": {
      "needs_background": "light"
     },
     "output_type": "display_data"
    }
   ],
   "source": [
    "sns.countplot(x='airline',data=df,palette='YlGnBu')\n",
    "plt.title(\"Airline vs Price\")\n",
    "plt.xlabel(\"Media\")\n",
    "plt.ylabel(\"No of visitors\")\n",
    "plt.xticks(rotation=90)\n",
    "plt.show()"
   ]
  },
  {
   "cell_type": "markdown",
   "id": "546f2255",
   "metadata": {},
   "source": [
    "From the above graph we can able to conclude Air india and Vistara have more number of passengers then others"
   ]
  },
  {
   "cell_type": "code",
   "execution_count": 10,
   "id": "b5696b56",
   "metadata": {},
   "outputs": [
    {
     "data": {
      "image/png": "[encoded data removed]",
      "text/plain": [
       "<Figure size 360x360 with 1 Axes>"
      ]
     },
     "metadata": {
      "needs_background": "light"
     },
     "output_type": "display_data"
    }
   ],
   "source": [
    "\n",
    "sns.catplot(data=df[['airline','price']],x='airline',y='price',kind='box',palette='GnBu')\n",
    "plt.ylabel(\"price\")\n",
    "plt.xlabel(\"Airline\")\n",
    "plt.title(\"Airline vs. Price\")\n",
    "plt.xticks(rotation=90)\n",
    "plt.show()"
   ]
  },
  {
   "cell_type": "markdown",
   "id": "65ea08f0",
   "metadata": {},
   "source": [
    "The above graph tells that the Air india have highest price range than the other."
   ]
  },
  {
   "cell_type": "code",
   "execution_count": 11,
   "id": "aa016b21",
   "metadata": {},
   "outputs": [
    {
     "data": {
      "image/png": "[encoded data removed]",
      "text/plain": [
       "<Figure size 360x360 with 1 Axes>"
      ]
     },
     "metadata": {
      "needs_background": "light"
     },
     "output_type": "display_data"
    }
   ],
   "source": [
    "sns.catplot(data=df[['total_stops','price']],x='total_stops',y='price',kind='box',palette='GnBu')\n",
    "plt.ylabel(\"Price\")\n",
    "plt.xlabel(\"Total_Stops\")\n",
    "plt.title(\"Total_Stops vs. Price\")\n",
    "plt.xticks(rotation=90)\n",
    "plt.show()"
   ]
  },
  {
   "cell_type": "markdown",
   "id": "2d20596d",
   "metadata": {},
   "source": [
    "From the above graph we can conclude that more the stops more the price"
   ]
  },
  {
   "cell_type": "code",
   "execution_count": 12,
   "id": "fbd9224b",
   "metadata": {},
   "outputs": [],
   "source": [
    "df[\"Journey_day\"]=pd.to_datetime(df[\"date_of_journey\"],format=\"%d-%m-%Y\").dt.day\n",
    "df[\"Journey_month\"]=pd.to_datetime(df[\"date_of_journey\"],format=\"%d-%m-%Y\").dt.month"
   ]
  },
  {
   "cell_type": "code",
   "execution_count": 14,
   "id": "1161ffc9",
   "metadata": {},
   "outputs": [],
   "source": [
    "df.drop(columns='date_of_journey',axis=1,inplace=True)"
   ]
  },
  {
   "cell_type": "code",
   "execution_count": 15,
   "id": "9215e40f",
   "metadata": {},
   "outputs": [
    {
     "data": {
      "text/plain": [
       "1 Stop       1035\n",
       "Non Stop      577\n",
       "2 Stop(s)      31\n",
       "3 Stop(s)       1\n",
       "Name: total_stops, dtype: int64"
      ]
     },
     "execution_count": 15,
     "metadata": {},
     "output_type": "execute_result"
    }
   ],
   "source": [
    "df['total_stops'].value_counts()"
   ]
  },
  {
   "cell_type": "code",
   "execution_count": 16,
   "id": "e0db4ffd",
   "metadata": {},
   "outputs": [],
   "source": [
    "df.replace({\"Non Stop\":0,\"1 Stop\":1,\"2 Stop(s)\":2,\"3 Stop(s)\":3},inplace=True)"
   ]
  },
  {
   "cell_type": "code",
   "execution_count": 18,
   "id": "ec1eba9c",
   "metadata": {},
   "outputs": [],
   "source": [
    "df[\"Dep_hour\"]=pd.to_datetime(df[\"depature_time\"]).dt.hour\n",
    "df[\"Dep_mins\"]=pd.to_datetime(df[\"depature_time\"]).dt.minute"
   ]
  },
  {
   "cell_type": "code",
   "execution_count": 21,
   "id": "ecb25845",
   "metadata": {},
   "outputs": [],
   "source": [
    "df[\"Arr_hour\"]=pd.to_datetime(df[\"arrival_time\"]).dt.hour\n",
    "df[\"Arr_min\"]=pd.to_datetime(df[\"arrival_time\"]).dt.minute"
   ]
  },
  {
   "cell_type": "code",
   "execution_count": 23,
   "id": "49daccc7",
   "metadata": {},
   "outputs": [],
   "source": [
    "df.drop(columns='arrival_time',axis=1,inplace=True)"
   ]
  },
  {
   "cell_type": "code",
   "execution_count": 24,
   "id": "23510fdc",
   "metadata": {},
   "outputs": [],
   "source": [
    "df=pd.get_dummies(df,columns=['airline','sources','desinations'],drop_first=True)"
   ]
  },
  {
   "cell_type": "code",
   "execution_count": 26,
   "id": "b7c702a2",
   "metadata": {},
   "outputs": [],
   "source": [
    "df.drop(columns='depature_time',axis=1,inplace=True)"
   ]
  },
  {
   "cell_type": "code",
   "execution_count": 27,
   "id": "590b6d57",
   "metadata": {},
   "outputs": [
    {
     "data": {
      "text/plain": [
       "1    1035\n",
       "0     577\n",
       "2      31\n",
       "3       1\n",
       "Name: total_stops, dtype: int64"
      ]
     },
     "execution_count": 27,
     "metadata": {},
     "output_type": "execute_result"
    }
   ],
   "source": [
    "df['total_stops'].value_counts()"
   ]
  },
  {
   "cell_type": "code",
   "execution_count": 28,
   "id": "8976577f",
   "metadata": {},
   "outputs": [],
   "source": [
    "duration=list(df['duration'])\n",
    "\n",
    "for i in range(len(duration)):\n",
    "    if len(duration[i].split()) !=2:\n",
    "        if \"h\" in duration[i]:\n",
    "            duration[i]=duration[i].strip()+\" 0m\"\n",
    "        else:\n",
    "            duration[i]=\"0h \"+duration[i]\n",
    "\n",
    "duration_hours=[]\n",
    "duration_mins=[]\n",
    "for i in range(len(duration)):\n",
    "    duration_hours.append(int(duration[i].split(sep=\"h\")[0]))\n",
    "    duration_mins.append(int(duration[i].split(sep=\"m\")[0].split()[-1]))"
   ]
  },
  {
   "cell_type": "code",
   "execution_count": 29,
   "id": "6bd46fe3",
   "metadata": {},
   "outputs": [],
   "source": [
    "\n",
    "df['Duration_hours']=duration_hours\n",
    "df['Duration_mins']=duration_mins"
   ]
  },
  {
   "cell_type": "code",
   "execution_count": 31,
   "id": "377c692c",
   "metadata": {},
   "outputs": [
    {
     "data": {
      "image/png": "[encoded data removed]",
      "text/plain": [
       "<Figure size 360x360 with 1 Axes>"
      ]
     },
     "metadata": {
      "needs_background": "light"
     },
     "output_type": "display_data"
    }
   ],
   "source": [
    "sns.catplot(data=df[['Journey_month','price']],x='Journey_month',y='price',kind='box',palette='GnBu')\n",
    "plt.ylabel(\"Price\")\n",
    "plt.xlabel(\"Total_Stops\")\n",
    "plt.title(\"Total_Stops vs. Price\")\n",
    "plt.xticks(rotation=90)\n",
    "plt.show()"
   ]
  },
  {
   "cell_type": "markdown",
   "id": "2f8b6bbf",
   "metadata": {},
   "source": [
    "Price of the ticket decreases as the booking is earlier in the present situation December is cheapest because it is after three months  "
   ]
  },
  {
   "cell_type": "code",
   "execution_count": 32,
   "id": "40e649e2",
   "metadata": {},
   "outputs": [],
   "source": [
    "df.drop(columns='duration',axis=1,inplace=True)"
   ]
  },
  {
   "cell_type": "code",
   "execution_count": 33,
   "id": "6459e477",
   "metadata": {},
   "outputs": [
    {
     "data": {
      "text/html": [
       "<div>\n",
       "<style scoped>\n",
       "    .dataframe tbody tr th:only-of-type {\n",
       "        vertical-align: middle;\n",
       "    }\n",
       "\n",
       "    .dataframe tbody tr th {\n",
       "        vertical-align: top;\n",
       "    }\n",
       "\n",
       "    .dataframe thead th {\n",
       "        text-align: right;\n",
       "    }\n",
       "</style>\n",
       "<table border=\"1\" class=\"dataframe\">\n",
       "  <thead>\n",
       "    <tr style=\"text-align: right;\">\n",
       "      <th></th>\n",
       "      <th>total_stops</th>\n",
       "      <th>price</th>\n",
       "      <th>Journey_day</th>\n",
       "      <th>Journey_month</th>\n",
       "      <th>Dep_hour</th>\n",
       "      <th>Dep_mins</th>\n",
       "      <th>Arr_hour</th>\n",
       "      <th>Arr_min</th>\n",
       "      <th>airline_Air India</th>\n",
       "      <th>airline_Go First</th>\n",
       "      <th>airline_IndiGo</th>\n",
       "      <th>airline_SpiceJet</th>\n",
       "      <th>airline_Vistara</th>\n",
       "      <th>desinations_+ 2 days\\nMumbai</th>\n",
       "      <th>desinations_Mumbai</th>\n",
       "      <th>Duration_hours</th>\n",
       "      <th>Duration_mins</th>\n",
       "    </tr>\n",
       "  </thead>\n",
       "  <tbody>\n",
       "    <tr>\n",
       "      <th>0</th>\n",
       "      <td>1</td>\n",
       "      <td>5953.0</td>\n",
       "      <td>23</td>\n",
       "      <td>10</td>\n",
       "      <td>9</td>\n",
       "      <td>25</td>\n",
       "      <td>16</td>\n",
       "      <td>0</td>\n",
       "      <td>0</td>\n",
       "      <td>0</td>\n",
       "      <td>0</td>\n",
       "      <td>0</td>\n",
       "      <td>0</td>\n",
       "      <td>0</td>\n",
       "      <td>1</td>\n",
       "      <td>6</td>\n",
       "      <td>35</td>\n",
       "    </tr>\n",
       "    <tr>\n",
       "      <th>1</th>\n",
       "      <td>1</td>\n",
       "      <td>5953.0</td>\n",
       "      <td>23</td>\n",
       "      <td>10</td>\n",
       "      <td>12</td>\n",
       "      <td>40</td>\n",
       "      <td>20</td>\n",
       "      <td>15</td>\n",
       "      <td>0</td>\n",
       "      <td>0</td>\n",
       "      <td>0</td>\n",
       "      <td>0</td>\n",
       "      <td>0</td>\n",
       "      <td>0</td>\n",
       "      <td>1</td>\n",
       "      <td>7</td>\n",
       "      <td>35</td>\n",
       "    </tr>\n",
       "    <tr>\n",
       "      <th>2</th>\n",
       "      <td>1</td>\n",
       "      <td>5953.0</td>\n",
       "      <td>23</td>\n",
       "      <td>10</td>\n",
       "      <td>11</td>\n",
       "      <td>55</td>\n",
       "      <td>20</td>\n",
       "      <td>15</td>\n",
       "      <td>0</td>\n",
       "      <td>0</td>\n",
       "      <td>0</td>\n",
       "      <td>0</td>\n",
       "      <td>0</td>\n",
       "      <td>0</td>\n",
       "      <td>1</td>\n",
       "      <td>8</td>\n",
       "      <td>20</td>\n",
       "    </tr>\n",
       "    <tr>\n",
       "      <th>3</th>\n",
       "      <td>1</td>\n",
       "      <td>5953.0</td>\n",
       "      <td>23</td>\n",
       "      <td>10</td>\n",
       "      <td>18</td>\n",
       "      <td>40</td>\n",
       "      <td>6</td>\n",
       "      <td>20</td>\n",
       "      <td>0</td>\n",
       "      <td>0</td>\n",
       "      <td>0</td>\n",
       "      <td>0</td>\n",
       "      <td>0</td>\n",
       "      <td>0</td>\n",
       "      <td>0</td>\n",
       "      <td>11</td>\n",
       "      <td>40</td>\n",
       "    </tr>\n",
       "    <tr>\n",
       "      <th>4</th>\n",
       "      <td>1</td>\n",
       "      <td>5953.0</td>\n",
       "      <td>23</td>\n",
       "      <td>10</td>\n",
       "      <td>8</td>\n",
       "      <td>0</td>\n",
       "      <td>22</td>\n",
       "      <td>10</td>\n",
       "      <td>0</td>\n",
       "      <td>0</td>\n",
       "      <td>0</td>\n",
       "      <td>0</td>\n",
       "      <td>0</td>\n",
       "      <td>0</td>\n",
       "      <td>1</td>\n",
       "      <td>14</td>\n",
       "      <td>10</td>\n",
       "    </tr>\n",
       "  </tbody>\n",
       "</table>\n",
       "</div>"
      ],
      "text/plain": [
       "   total_stops   price  Journey_day  Journey_month  Dep_hour  Dep_mins  \\\n",
       "0            1  5953.0           23             10         9        25   \n",
       "1            1  5953.0           23             10        12        40   \n",
       "2            1  5953.0           23             10        11        55   \n",
       "3            1  5953.0           23             10        18        40   \n",
       "4            1  5953.0           23             10         8         0   \n",
       "\n",
       "   Arr_hour  Arr_min  airline_Air India  airline_Go First  airline_IndiGo  \\\n",
       "0        16        0                  0                 0               0   \n",
       "1        20       15                  0                 0               0   \n",
       "2        20       15                  0                 0               0   \n",
       "3         6       20                  0                 0               0   \n",
       "4        22       10                  0                 0               0   \n",
       "\n",
       "   airline_SpiceJet  airline_Vistara  desinations_+ 2 days\\nMumbai  \\\n",
       "0                 0                0                             0   \n",
       "1                 0                0                             0   \n",
       "2                 0                0                             0   \n",
       "3                 0                0                             0   \n",
       "4                 0                0                             0   \n",
       "\n",
       "   desinations_Mumbai  Duration_hours  Duration_mins  \n",
       "0                   1               6             35  \n",
       "1                   1               7             35  \n",
       "2                   1               8             20  \n",
       "3                   0              11             40  \n",
       "4                   1              14             10  "
      ]
     },
     "execution_count": 33,
     "metadata": {},
     "output_type": "execute_result"
    }
   ],
   "source": [
    "df.head()"
   ]
  },
  {
   "cell_type": "code",
   "execution_count": 34,
   "id": "fa6db6c5",
   "metadata": {},
   "outputs": [],
   "source": [
    "\n",
    "X=df.drop(columns='price',axis=1,)\n",
    "y=df['price']"
   ]
  },
  {
   "cell_type": "code",
   "execution_count": 35,
   "id": "01ae5faf",
   "metadata": {},
   "outputs": [],
   "source": [
    "X_train,X_test,y_train,y_test=train_test_split(X,y,test_size=0.2,random_state=42)"
   ]
  },
  {
   "cell_type": "code",
   "execution_count": 36,
   "id": "ac1f542e",
   "metadata": {},
   "outputs": [],
   "source": [
    "from sklearn.model_selection import cross_val_score\n",
    "from sklearn import metrics\n",
    "from sklearn.metrics import mean_absolute_error\n",
    "from sklearn.metrics import mean_squared_error"
   ]
  },
  {
   "cell_type": "code",
   "execution_count": 37,
   "id": "c9ddb60d",
   "metadata": {},
   "outputs": [
    {
     "name": "stdout",
     "output_type": "stream",
     "text": [
      "Decision Tree Score on Training set is 1.0\n",
      "Decision Tree Score on Test Set is 0.5426768544925871\n",
      "[0.42269988 0.54494044 0.66368495 0.6028112  0.46242257]\n",
      "Accuracy: 53.93 %\n",
      "Standard Deviation: 8.84 %\n",
      "Mean Absolute Error: 1083.1063829787233\n",
      "Mean Squared Error: 5589125.386018237\n",
      "RMSE: 2364.1331151223776\n",
      "The r2_score is 0.5426768544925871\n"
     ]
    },
    {
     "name": "stderr",
     "output_type": "stream",
     "text": [
      "C:\\Users\\Hp\\anaconda3\\lib\\site-packages\\seaborn\\distributions.py:2557: FutureWarning: `distplot` is a deprecated function and will be removed in a future version. Please adapt your code to use either `displot` (a figure-level function with similar flexibility) or `histplot` (an axes-level function for histograms).\n",
      "  warnings.warn(msg, FutureWarning)\n"
     ]
    },
    {
     "data": {
      "image/png": "[encoded data removed]",
      "text/plain": [
       "<Figure size 432x288 with 1 Axes>"
      ]
     },
     "metadata": {
      "needs_background": "light"
     },
     "output_type": "display_data"
    },
    {
     "data": {
      "image/png": "[encoded data removed]",
      "text/plain": [
       "<Figure size 432x288 with 1 Axes>"
      ]
     },
     "metadata": {
      "needs_background": "light"
     },
     "output_type": "display_data"
    }
   ],
   "source": [
    "from sklearn.tree import DecisionTreeRegressor\n",
    "dt_reg = DecisionTreeRegressor(random_state = 0)\n",
    "dt_reg.fit(X_train, y_train)\n",
    "y_pred=dt_reg.predict(X_test)\n",
    "\n",
    "print(\"Decision Tree Score on Training set is\",dt_reg.score(X_train, y_train))#Training Accuracy\n",
    "print(\"Decision Tree Score on Test Set is\",dt_reg.score(X_test, y_test))#Testing Accuracy\n",
    "\n",
    "accuracies = cross_val_score(dt_reg, X_train, y_train, cv = 5)\n",
    "print(accuracies)\n",
    "print(\"Accuracy: {:.2f} %\".format(accuracies.mean()*100))\n",
    "print(\"Standard Deviation: {:.2f} %\".format(accuracies.std()*100))\n",
    "\n",
    "mae=mean_absolute_error(y_pred, y_test)\n",
    "print(\"Mean Absolute Error:\" , mae)\n",
    "\n",
    "mse=mean_squared_error(y_test, y_pred)\n",
    "print(\"Mean Squared Error:\" , mse)\n",
    "\n",
    "print('RMSE:', np.sqrt(metrics.mean_squared_error(y_test, y_pred)))\n",
    "\n",
    "print('The r2_score is', metrics.r2_score(y_test, y_pred))\n",
    "\n",
    "sns.distplot(y_test-y_pred)\n",
    "plt.show()\n",
    "\n",
    "plt.scatter(y_test, y_pred, alpha = 0.5)\n",
    "plt.xlabel(\"y_test\")\n",
    "plt.ylabel(\"y_pred\")\n",
    "plt.show()"
   ]
  },
  {
   "cell_type": "code",
   "execution_count": 38,
   "id": "7d6c9c20",
   "metadata": {},
   "outputs": [
    {
     "name": "stdout",
     "output_type": "stream",
     "text": [
      "Random Forest Score on Training set is 0.8352993875401366\n",
      "Random Forest Score on Test Set is 0.7354831941246596\n",
      "[0.69425732 0.6613142  0.74558153 0.68705689 0.69180519]\n",
      "Accuracy: 69.60 %\n",
      "Standard Deviation: 2.74 %\n",
      "Mean Absolute Error: 1027.133932995749\n",
      "Mean Squared Error: 3232763.5486412505\n",
      "RMSE: 1797.9887509773944\n",
      "The r2_score is 0.7354831941246596\n"
     ]
    },
    {
     "name": "stderr",
     "output_type": "stream",
     "text": [
      "C:\\Users\\Hp\\anaconda3\\lib\\site-packages\\seaborn\\distributions.py:2557: FutureWarning: `distplot` is a deprecated function and will be removed in a future version. Please adapt your code to use either `displot` (a figure-level function with similar flexibility) or `histplot` (an axes-level function for histograms).\n",
      "  warnings.warn(msg, FutureWarning)\n"
     ]
    },
    {
     "data": {
      "image/png": "[encoded data removed]",
      "text/plain": [
       "<Figure size 432x288 with 1 Axes>"
      ]
     },
     "metadata": {
      "needs_background": "light"
     },
     "output_type": "display_data"
    },
    {
     "data": {
      "image/png": "[encoded data removed]",
      "text/plain": [
       "<Figure size 432x288 with 1 Axes>"
      ]
     },
     "metadata": {
      "needs_background": "light"
     },
     "output_type": "display_data"
    }
   ],
   "source": [
    "from sklearn.ensemble import RandomForestRegressor\n",
    "rf_reg = RandomForestRegressor(n_estimators=400,min_samples_split=15,min_samples_leaf=2,\n",
    "max_features='auto', max_depth=30)\n",
    "rf_reg.fit(X_train, y_train)\n",
    "y_pred=rf_reg.predict(X_test)\n",
    "\n",
    "print(\"Random Forest Score on Training set is\",rf_reg.score(X_train, y_train))#Training Accuracy\n",
    "print(\"Random Forest Score on Test Set is\",rf_reg.score(X_test, y_test))#Testing Accuracy\n",
    "\n",
    "accuracies = cross_val_score(rf_reg, X_train, y_train, cv = 5)\n",
    "print(accuracies)\n",
    "print(\"Accuracy: {:.2f} %\".format(accuracies.mean()*100))\n",
    "print(\"Standard Deviation: {:.2f} %\".format(accuracies.std()*100))\n",
    "\n",
    "mae=mean_absolute_error(y_pred, y_test)\n",
    "print(\"Mean Absolute Error:\" , mae)\n",
    "\n",
    "mse=mean_squared_error(y_test, y_pred)\n",
    "print(\"Mean Squared Error:\" , mse)\n",
    "\n",
    "print('RMSE:', np.sqrt(metrics.mean_squared_error(y_test, y_pred)))\n",
    "\n",
    "print('The r2_score is', metrics.r2_score(y_test, y_pred))\n",
    "\n",
    "sns.distplot(y_test-y_pred)\n",
    "plt.show()\n",
    "\n",
    "plt.scatter(y_test, y_pred, alpha = 0.5)\n",
    "plt.xlabel(\"y_test\")\n",
    "plt.ylabel(\"y_pred\")\n",
    "plt.show()"
   ]
  },
  {
   "cell_type": "code",
   "execution_count": 39,
   "id": "331f956c",
   "metadata": {},
   "outputs": [
    {
     "name": "stdout",
     "output_type": "stream",
     "text": [
      "Voting Regresssor Score on Training set is 0.9584077099062511\n",
      "Voting Regresssor Score on Test Set is 0.7118937355099375\n",
      "[0.63186213 0.65202501 0.76024895 0.70765186 0.66856582]\n",
      "Accuracy: 68.41 %\n",
      "Standard Deviation: 4.55 %\n",
      "Mean Absolute Error: 1010.2716369892362\n",
      "Mean Squared Error: 3521059.567071904\n",
      "RMSE: 1876.4486582563095\n",
      "The r2_score is 0.7118937355099375\n"
     ]
    },
    {
     "name": "stderr",
     "output_type": "stream",
     "text": [
      "C:\\Users\\Hp\\anaconda3\\lib\\site-packages\\seaborn\\distributions.py:2557: FutureWarning: `distplot` is a deprecated function and will be removed in a future version. Please adapt your code to use either `displot` (a figure-level function with similar flexibility) or `histplot` (an axes-level function for histograms).\n",
      "  warnings.warn(msg, FutureWarning)\n"
     ]
    },
    {
     "data": {
      "image/png": "[encoded data removed]",
      "text/plain": [
       "<Figure size 432x288 with 1 Axes>"
      ]
     },
     "metadata": {
      "needs_background": "light"
     },
     "output_type": "display_data"
    },
    {
     "data": {
      "image/png": "[encoded data removed]",
      "text/plain": [
       "<Figure size 432x288 with 1 Axes>"
      ]
     },
     "metadata": {
      "needs_background": "light"
     },
     "output_type": "display_data"
    }
   ],
   "source": [
    "from sklearn.ensemble import VotingRegressor\n",
    "vot_reg = VotingRegressor([('DecisionTree', dt_reg), ('RandomForestRegressor', rf_reg)])\n",
    "vot_reg.fit(X_train, y_train)\n",
    "y_pred=vot_reg.predict(X_test)\n",
    "\n",
    "print(\"Voting Regresssor Score on Training set is\",vot_reg.score(X_train, y_train))#Training Accuracy\n",
    "print(\"Voting Regresssor Score on Test Set is\",vot_reg.score(X_test, y_test))#Testing Accuracy\n",
    "\n",
    "accuracies = cross_val_score(vot_reg, X_train, y_train, cv = 5)\n",
    "print(accuracies)\n",
    "print(\"Accuracy: {:.2f} %\".format(accuracies.mean()*100))\n",
    "print(\"Standard Deviation: {:.2f} %\".format(accuracies.std()*100))\n",
    "\n",
    "mae=mean_absolute_error(y_pred, y_test)\n",
    "print(\"Mean Absolute Error:\" , mae)\n",
    "\n",
    "mse=mean_squared_error(y_test, y_pred)\n",
    "print(\"Mean Squared Error:\" , mse)\n",
    "\n",
    "print('RMSE:', np.sqrt(metrics.mean_squared_error(y_test, y_pred)))\n",
    "\n",
    "print('The r2_score is', metrics.r2_score(y_test, y_pred))\n",
    "\n",
    "sns.distplot(y_test-y_pred)\n",
    "plt.show()\n",
    "\n",
    "plt.scatter(y_test, y_pred, alpha = 0.5)\n",
    "plt.xlabel(\"y_test\")\n",
    "plt.ylabel(\"y_pred\")\n",
    "plt.show()"
   ]
  },
  {
   "cell_type": "code",
   "execution_count": 40,
   "id": "9447b4d0",
   "metadata": {},
   "outputs": [
    {
     "name": "stderr",
     "output_type": "stream",
     "text": [
      "C:\\Users\\Hp\\anaconda3\\lib\\site-packages\\seaborn\\distributions.py:2557: FutureWarning: `distplot` is a deprecated function and will be removed in a future version. Please adapt your code to use either `displot` (a figure-level function with similar flexibility) or `histplot` (an axes-level function for histograms).\n",
      "  warnings.warn(msg, FutureWarning)\n"
     ]
    },
    {
     "data": {
      "image/png": "[encoded data removed]",
      "text/plain": [
       "<Figure size 432x288 with 1 Axes>"
      ]
     },
     "metadata": {
      "needs_background": "light"
     },
     "output_type": "display_data"
    }
   ],
   "source": [
    "sns.distplot(y_test-y_pred)\n",
    "plt.show()"
   ]
  },
  {
   "cell_type": "code",
   "execution_count": 41,
   "id": "cfe15dc4",
   "metadata": {},
   "outputs": [
    {
     "name": "stdout",
     "output_type": "stream",
     "text": [
      "MAE:  1010.2716369892362\n",
      "MSE:  3521059.567071904\n",
      "RMSE:  1876.4486582563095\n"
     ]
    }
   ],
   "source": [
    "print('MAE: ', metrics.mean_absolute_error(y_test,y_pred))\n",
    "print('MSE: ', metrics.mean_squared_error(y_test,y_pred))\n",
    "print('RMSE: ', np.sqrt(metrics.mean_squared_error(y_test,y_pred)))"
   ]
  },
  {
   "cell_type": "code",
   "execution_count": 42,
   "id": "518f2190",
   "metadata": {},
   "outputs": [
    {
     "data": {
      "text/plain": [
       "0.7118937355099375"
      ]
     },
     "execution_count": 42,
     "metadata": {},
     "output_type": "execute_result"
    }
   ],
   "source": [
    "\n",
    "metrics.r2_score(y_test,y_pred)"
   ]
  },
  {
   "cell_type": "code",
   "execution_count": 43,
   "id": "86137332",
   "metadata": {},
   "outputs": [],
   "source": [
    "n_estimators=[int(x) for x in np.linspace(start = 100, stop = 1200, num=12)]\n",
    "max_features=['auto','sqrt']\n",
    "max_depth=[int(x) for x in np.linspace(5, 30,num=6)]\n",
    "min_samples_split=[2,5,10,15,100]\n",
    "min_sample_leaf =[1,2,5,10]"
   ]
  },
  {
   "cell_type": "code",
   "execution_count": 44,
   "id": "916f7136",
   "metadata": {},
   "outputs": [],
   "source": [
    "random_grid={'n_estimators': n_estimators,\n",
    "            'max_features': max_features,\n",
    "            'max_depth' : max_depth,\n",
    "            'min_samples_split': min_samples_split,\n",
    "            'min_samples_leaf': min_sample_leaf}"
   ]
  },
  {
   "cell_type": "code",
   "execution_count": 46,
   "id": "3b1a52f7",
   "metadata": {},
   "outputs": [],
   "source": [
    "rf_reg=RandomizedSearchCV(estimator=rf_reg,param_distributions=random_grid,scoring='neg_mean_squared_error',n_iter = 10,cv=5,random_state=42,n_jobs=1)"
   ]
  },
  {
   "cell_type": "code",
   "execution_count": 47,
   "id": "438918ad",
   "metadata": {},
   "outputs": [
    {
     "data": {
      "text/plain": [
       "RandomizedSearchCV(cv=5,\n",
       "                   estimator=RandomForestRegressor(max_depth=30,\n",
       "                                                   min_samples_leaf=2,\n",
       "                                                   min_samples_split=15,\n",
       "                                                   n_estimators=400),\n",
       "                   n_jobs=1,\n",
       "                   param_distributions={'max_depth': [5, 10, 15, 20, 25, 30],\n",
       "                                        'max_features': ['auto', 'sqrt'],\n",
       "                                        'min_samples_leaf': [1, 2, 5, 10],\n",
       "                                        'min_samples_split': [2, 5, 10, 15,\n",
       "                                                              100],\n",
       "                                        'n_estimators': [100, 200, 300, 400,\n",
       "                                                         500, 600, 700, 800,\n",
       "                                                         900, 1000, 1100,\n",
       "                                                         1200]},\n",
       "                   random_state=42, scoring='neg_mean_squared_error')"
      ]
     },
     "execution_count": 47,
     "metadata": {},
     "output_type": "execute_result"
    }
   ],
   "source": [
    "rf_reg.fit(X_train,y_train)"
   ]
  },
  {
   "cell_type": "code",
   "execution_count": 48,
   "id": "d0e80100",
   "metadata": {},
   "outputs": [
    {
     "data": {
      "text/plain": [
       "{'n_estimators': 1000,\n",
       " 'min_samples_split': 2,\n",
       " 'min_samples_leaf': 1,\n",
       " 'max_features': 'sqrt',\n",
       " 'max_depth': 25}"
      ]
     },
     "execution_count": 48,
     "metadata": {},
     "output_type": "execute_result"
    }
   ],
   "source": [
    "rf_reg.best_params_"
   ]
  },
  {
   "cell_type": "code",
   "execution_count": 49,
   "id": "458120f6",
   "metadata": {},
   "outputs": [],
   "source": [
    "prediction = rf_reg.predict(X_test)"
   ]
  },
  {
   "cell_type": "code",
   "execution_count": 50,
   "id": "05474a13",
   "metadata": {},
   "outputs": [
    {
     "name": "stdout",
     "output_type": "stream",
     "text": [
      "MAE:  910.7419984802432\n",
      "MSE:  2843173.729791642\n",
      "RMSE:  1686.171322787706\n"
     ]
    }
   ],
   "source": [
    "print('MAE: ', metrics.mean_absolute_error(y_test,prediction))\n",
    "print('MSE: ', metrics.mean_squared_error(y_test,prediction))\n",
    "print('RMSE: ', np.sqrt(metrics.mean_squared_error(y_test,prediction)))\n"
   ]
  },
  {
   "cell_type": "markdown",
   "id": "2f1a6d4a",
   "metadata": {},
   "source": [
    "# Save the model"
   ]
  },
  {
   "cell_type": "code",
   "execution_count": 51,
   "id": "c55fba9f",
   "metadata": {},
   "outputs": [],
   "source": [
    "file=open('flight_prediction.pkl','wb')\n",
    "pickle.dump(rf_reg,file)"
   ]
  },
  {
   "cell_type": "code",
   "execution_count": 52,
   "id": "a86e387e",
   "metadata": {},
   "outputs": [],
   "source": [
    "model = open('flight_prediction.pkl','rb')\n",
    "forest = pickle.load(model)"
   ]
  },
  {
   "cell_type": "code",
   "execution_count": 53,
   "id": "77bede54",
   "metadata": {},
   "outputs": [],
   "source": [
    "y_prediction=forest.predict(X_test)"
   ]
  },
  {
   "cell_type": "code",
   "execution_count": 54,
   "id": "5c4fd70f",
   "metadata": {},
   "outputs": [
    {
     "data": {
      "text/plain": [
       "0.7673608903845561"
      ]
     },
     "execution_count": 54,
     "metadata": {},
     "output_type": "execute_result"
    }
   ],
   "source": [
    "metrics.r2_score(y_test,y_prediction)"
   ]
  },
  {
   "cell_type": "code",
   "execution_count": 56,
   "id": "5083aea5",
   "metadata": {},
   "outputs": [],
   "source": [
    "file=open('flight_prediction2.pkl','wb')\n",
    "pickle.dump(rf_reg,file)"
   ]
  },
  {
   "cell_type": "code",
   "execution_count": null,
   "id": "94cd759c",
   "metadata": {},
   "outputs": [],
   "source": []
  }
 ],
 "metadata": {
  "kernelspec": {
   "display_name": "Python 3",
   "language": "python",
   "name": "python3"
  },
  "language_info": {
   "codemirror_mode": {
    "name": "ipython",
    "version": 3
   },
   "file_extension": ".py",
   "mimetype": "text/x-python",
   "name": "python",
   "nbconvert_exporter": "python",
   "pygments_lexer": "ipython3",
   "version": "3.8.8"
  }
 },
 "nbformat": 4,
 "nbformat_minor": 5
}
